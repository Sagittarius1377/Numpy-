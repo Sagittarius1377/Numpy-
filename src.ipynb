{
 "cells": [
  {
   "cell_type": "code",
   "execution_count": 1,
   "id": "d03f88c6",
   "metadata": {},
   "outputs": [],
   "source": [
    "import numpy as np"
   ]
  },
  {
   "cell_type": "code",
   "execution_count": 2,
   "id": "2c354bb2",
   "metadata": {},
   "outputs": [
    {
     "data": {
      "text/plain": [
       "array([ 2,  5,  7, 23, 87])"
      ]
     },
     "execution_count": 2,
     "metadata": {},
     "output_type": "execute_result"
    }
   ],
   "source": [
    "# create 1D array\n",
    "\n",
    "arr_1 = np.array([2,5,7,23,87])\n",
    "arr_1"
   ]
  },
  {
   "cell_type": "code",
   "execution_count": 3,
   "id": "79e91305",
   "metadata": {},
   "outputs": [
    {
     "data": {
      "text/plain": [
       "array([[2, 4, 5, 5],\n",
       "       [5, 8, 9, 0]])"
      ]
     },
     "execution_count": 3,
     "metadata": {},
     "output_type": "execute_result"
    }
   ],
   "source": [
    "# create 2D array \n",
    "\n",
    "arr_2 = np.array([[2,4,5,5] , [5,8,9,0]])\n",
    "arr_2\n"
   ]
  },
  {
   "cell_type": "code",
   "execution_count": 4,
   "id": "310d59ec",
   "metadata": {},
   "outputs": [
    {
     "name": "stdout",
     "output_type": "stream",
     "text": [
      "type <class 'numpy.ndarray'>\n",
      "shape (2, 4)\n"
     ]
    }
   ],
   "source": [
    "# to check type and shape \n",
    "\n",
    "t = type(arr_2)\n",
    "print(\"type\",t)\n",
    "\n",
    "s = arr_2.shape  #show dimension of array \n",
    "print(\"shape\",s)\n"
   ]
  },
  {
   "cell_type": "code",
   "execution_count": 5,
   "id": "b72002ae",
   "metadata": {},
   "outputs": [
    {
     "data": {
      "text/plain": [
       "array([   4,   25,   49,  529, 7569])"
      ]
     },
     "execution_count": 5,
     "metadata": {},
     "output_type": "execute_result"
    }
   ],
   "source": [
    "#  Squaring Elements\n",
    "\n",
    "numpy_squares = arr_1 ** 2\n",
    "numpy_squares"
   ]
  },
  {
   "cell_type": "code",
   "execution_count": 6,
   "id": "be23b55a",
   "metadata": {},
   "outputs": [
    {
     "data": {
      "text/plain": [
       "array([[0., 0., 0.],\n",
       "       [0., 0., 0.]])"
      ]
     },
     "execution_count": 6,
     "metadata": {},
     "output_type": "execute_result"
    }
   ],
   "source": [
    "#  array of zeros(2x3)\n",
    "a = np.zeros((2,3))\n",
    "a"
   ]
  },
  {
   "cell_type": "code",
   "execution_count": 7,
   "id": "afffda6d",
   "metadata": {},
   "outputs": [
    {
     "data": {
      "text/plain": [
       "array([[1., 1., 1.],\n",
       "       [1., 1., 1.],\n",
       "       [1., 1., 1.],\n",
       "       [1., 1., 1.]])"
      ]
     },
     "execution_count": 7,
     "metadata": {},
     "output_type": "execute_result"
    }
   ],
   "source": [
    "# array of ones(4x3)\n",
    "b = np.ones((4,3))\n",
    "b"
   ]
  },
  {
   "cell_type": "code",
   "execution_count": 8,
   "id": "3fda052c",
   "metadata": {},
   "outputs": [
    {
     "data": {
      "text/plain": [
       "array([[6, 6, 6, 6],\n",
       "       [6, 6, 6, 6],\n",
       "       [6, 6, 6, 6]])"
      ]
     },
     "execution_count": 8,
     "metadata": {},
     "output_type": "execute_result"
    }
   ],
   "source": [
    "# array filled with any number(for eg 6)\n",
    "c = np.full((3,4),6)\n",
    "c"
   ]
  },
  {
   "cell_type": "code",
   "execution_count": 9,
   "id": "7ffdba43",
   "metadata": {},
   "outputs": [
    {
     "data": {
      "text/plain": [
       "array([[1., 0., 0., 0., 0.],\n",
       "       [0., 1., 0., 0., 0.],\n",
       "       [0., 0., 1., 0., 0.],\n",
       "       [0., 0., 0., 1., 0.],\n",
       "       [0., 0., 0., 0., 1.]])"
      ]
     },
     "execution_count": 9,
     "metadata": {},
     "output_type": "execute_result"
    }
   ],
   "source": [
    "#  identity matrix\n",
    "i = np.eye(5)\n",
    "i"
   ]
  },
  {
   "cell_type": "code",
   "execution_count": 10,
   "id": "4e26337a",
   "metadata": {},
   "outputs": [
    {
     "data": {
      "text/plain": [
       "array([1, 4, 7])"
      ]
     },
     "execution_count": 10,
     "metadata": {},
     "output_type": "execute_result"
    }
   ],
   "source": [
    "# like range from 1 to 10 \n",
    "d = np.arange(1, 10, 3)\n",
    "d"
   ]
  },
  {
   "cell_type": "code",
   "execution_count": 11,
   "id": "b742cc5e",
   "metadata": {},
   "outputs": [
    {
     "data": {
      "text/plain": [
       "array([ 0. ,  2.5,  5. ,  7.5, 10. ])"
      ]
     },
     "execution_count": 11,
     "metadata": {},
     "output_type": "execute_result"
    }
   ],
   "source": [
    "# evenly spaced\n",
    "e = np.linspace(0,10,5)\n",
    "e"
   ]
  },
  {
   "cell_type": "code",
   "execution_count": 12,
   "id": "a685e8a5",
   "metadata": {},
   "outputs": [
    {
     "name": "stdout",
     "output_type": "stream",
     "text": [
      "shape: (2, 3)\n",
      "size: 6\n",
      "datatype: int64\n",
      "dimension: 2\n"
     ]
    }
   ],
   "source": [
    "# to check characteristics of array \n",
    "\n",
    "arr = np.array([[20,40,50],[22,66,88]])\n",
    "\n",
    "print(\"shape:\", arr.shape)\n",
    "print(\"size:\", arr.size)\n",
    "print(\"datatype:\", arr.dtype)    #all elements share the same datatype \n",
    "print(\"dimension:\", arr.ndim)"
   ]
  },
  {
   "cell_type": "code",
   "execution_count": 13,
   "id": "45f21f96",
   "metadata": {},
   "outputs": [
    {
     "name": "stdout",
     "output_type": "stream",
     "text": [
      "float32\n"
     ]
    }
   ],
   "source": [
    "#  changing data type \n",
    "\n",
    "f = np.array([1,2,3] , dtype = np.float32)\n",
    "print(f.dtype)"
   ]
  },
  {
   "cell_type": "code",
   "execution_count": 14,
   "id": "1830a271",
   "metadata": {},
   "outputs": [],
   "source": [
    "f_int = f.astype(np.int32)"
   ]
  },
  {
   "cell_type": "code",
   "execution_count": 15,
   "id": "cd5f6731",
   "metadata": {},
   "outputs": [
    {
     "data": {
      "text/plain": [
       "array([1, 2, 3], dtype=int32)"
      ]
     },
     "execution_count": 15,
     "metadata": {},
     "output_type": "execute_result"
    }
   ],
   "source": [
    "f_int"
   ]
  },
  {
   "cell_type": "code",
   "execution_count": 16,
   "id": "24947bbb",
   "metadata": {},
   "outputs": [
    {
     "name": "stdout",
     "output_type": "stream",
     "text": [
      "[[[1 2 3]\n",
      "  [5 6 8]]]\n"
     ]
    }
   ],
   "source": [
    "# reshapping \n",
    "\n",
    "g = np.array([[[1,2,3], [5,6,8]]])\n",
    "print(g)"
   ]
  },
  {
   "cell_type": "code",
   "execution_count": 17,
   "id": "b1d1dcb3",
   "metadata": {},
   "outputs": [],
   "source": [
    "reshaped_g = g.reshape((3,2))"
   ]
  },
  {
   "cell_type": "code",
   "execution_count": 18,
   "id": "8759a00b",
   "metadata": {},
   "outputs": [
    {
     "data": {
      "text/plain": [
       "array([[1, 2],\n",
       "       [3, 5],\n",
       "       [6, 8]])"
      ]
     },
     "execution_count": 18,
     "metadata": {},
     "output_type": "execute_result"
    }
   ],
   "source": [
    "reshaped_g"
   ]
  },
  {
   "cell_type": "code",
   "execution_count": 19,
   "id": "bfe5d746",
   "metadata": {},
   "outputs": [
    {
     "name": "stdout",
     "output_type": "stream",
     "text": [
      "[1 2 3 5 6 8]\n"
     ]
    }
   ],
   "source": [
    "# flatting (2D --> 1D) \n",
    "\n",
    "flatted_g = g.flatten()\n",
    "print(flatted_g)"
   ]
  },
  {
   "cell_type": "code",
   "execution_count": 20,
   "id": "cbacd1ae",
   "metadata": {},
   "outputs": [
    {
     "data": {
      "text/plain": [
       "np.int64(23)"
      ]
     },
     "execution_count": 20,
     "metadata": {},
     "output_type": "execute_result"
    }
   ],
   "source": [
    "# indexing \n",
    "\n",
    "h = np.array([23,63,75,12,89,20,40])\n",
    "h[0]"
   ]
  },
  {
   "cell_type": "code",
   "execution_count": 21,
   "id": "4e906355",
   "metadata": {},
   "outputs": [
    {
     "data": {
      "text/plain": [
       "np.int64(40)"
      ]
     },
     "execution_count": 21,
     "metadata": {},
     "output_type": "execute_result"
    }
   ],
   "source": [
    "h[-1]"
   ]
  },
  {
   "cell_type": "code",
   "execution_count": 22,
   "id": "02f03ec0",
   "metadata": {},
   "outputs": [
    {
     "data": {
      "text/plain": [
       "array([63, 75, 12])"
      ]
     },
     "execution_count": 22,
     "metadata": {},
     "output_type": "execute_result"
    }
   ],
   "source": [
    "# slicing   --- changes in slice effect the original array because they share same data in memory  \n",
    "h[1:4]"
   ]
  },
  {
   "cell_type": "code",
   "execution_count": 23,
   "id": "bc1d13bc",
   "metadata": {},
   "outputs": [
    {
     "data": {
      "text/plain": [
       "array([23, 75, 89, 40])"
      ]
     },
     "execution_count": 23,
     "metadata": {},
     "output_type": "execute_result"
    }
   ],
   "source": [
    "h[::2]   # with gap of 2  "
   ]
  },
  {
   "cell_type": "code",
   "execution_count": 24,
   "id": "631a6cc1",
   "metadata": {},
   "outputs": [
    {
     "data": {
      "text/plain": [
       "array([10, 20, 25])"
      ]
     },
     "execution_count": 24,
     "metadata": {},
     "output_type": "execute_result"
    }
   ],
   "source": [
    "# select multiple items (fancing indexing)\n",
    "i = np.array([10,50,20,30,40,60,90,25,75])\n",
    "\n",
    "idx = [0,2,7]\n",
    "\n",
    "i[idx]\n"
   ]
  },
  {
   "cell_type": "code",
   "execution_count": 25,
   "id": "4abbc874",
   "metadata": {},
   "outputs": [
    {
     "data": {
      "text/plain": [
       "array([50, 60, 90, 75])"
      ]
     },
     "execution_count": 25,
     "metadata": {},
     "output_type": "execute_result"
    }
   ],
   "source": [
    "# boolean masking\n",
    "\n",
    "mask = i > 40 \n",
    "\n",
    "i[mask]"
   ]
  }
 ],
 "metadata": {
  "kernelspec": {
   "display_name": ".venv (3.13.5)",
   "language": "python",
   "name": "python3"
  },
  "language_info": {
   "codemirror_mode": {
    "name": "ipython",
    "version": 3
   },
   "file_extension": ".py",
   "mimetype": "text/x-python",
   "name": "python",
   "nbconvert_exporter": "python",
   "pygments_lexer": "ipython3",
   "version": "3.13.5"
  }
 },
 "nbformat": 4,
 "nbformat_minor": 5
}
